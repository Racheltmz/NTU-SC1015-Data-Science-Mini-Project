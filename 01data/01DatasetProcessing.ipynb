{
 "cells": [
  {
   "cell_type": "markdown",
   "id": "bff29a20",
   "metadata": {},
   "source": [
    "<h1 style=\"background-color: #9E9A75; padding: 20px; color:white; fontsize:40px;\">Part 1: Dataset Processing</h1>"
   ]
  },
  {
   "cell_type": "code",
   "execution_count": 1,
   "id": "e77b24f8",
   "metadata": {},
   "outputs": [],
   "source": [
    "# Import Libraries\n",
    "import os\n",
    "from os import listdir\n",
    "from os.path import isfile, join\n",
    "import shutil"
   ]
  },
  {
   "cell_type": "markdown",
   "id": "a31c89d7",
   "metadata": {},
   "source": [
    "Download [UCMerced Land Use dataset](https://www.kaggle.com/datasets/apollo2506/landuse-scene-classification) to get the source images folder."
   ]
  },
  {
   "cell_type": "code",
   "execution_count": 2,
   "id": "4393297a",
   "metadata": {},
   "outputs": [],
   "source": [
    "# Define paths\n",
    "source_base_path = '.\\\\images'\n",
    "dest_base_path = '.\\\\dataset'\n",
    "# Define mapping of new class names to list of class names from the original dataset\n",
    "source2dest = {\n",
    "    'highdensitybuildings': ['buildings', 'denseresidential', 'mediumresidential'],\n",
    "    'lowdensitybuildings': ['sparseresidential', 'mobilehomepark'],\n",
    "    'roads': ['overpass', 'freeway', 'intersection', 'parkinglot'],\n",
    "    'recreational': ['baseballdiamond', 'golfcourse', 'tenniscourt'],\n",
    "    'harbor': ['harbor'],\n",
    "    'beach': ['beach'],\n",
    "    'forest': ['forest'],\n",
    "    'river': ['river'],\n",
    "    'runway': ['airplane', 'runway'],\n",
    "    'storagetanks': ['storagetanks'],\n",
    "}"
   ]
  },
  {
   "cell_type": "code",
   "execution_count": 3,
   "id": "137d9857",
   "metadata": {},
   "outputs": [
    {
     "name": "stdout",
     "output_type": "stream",
     "text": [
      "Directory created successfully\n"
     ]
    }
   ],
   "source": [
    "# Create destination directory\n",
    "try:\n",
    "    os.makedirs(dest_base_path, exist_ok=True)\n",
    "    print('Directory created successfully')\n",
    "except OSError as error:\n",
    "    print('Directory cannot be created')"
   ]
  },
  {
   "cell_type": "markdown",
   "id": "0bfc5974",
   "metadata": {},
   "source": [
    "## Copy and Rename Files from source directory (images) to destination directory (dataset)"
   ]
  },
  {
   "cell_type": "code",
   "execution_count": 4,
   "id": "5897b8b2",
   "metadata": {},
   "outputs": [],
   "source": [
    "def mv_images(source, destination):\n",
    "    # Get all images for each new class\n",
    "    for new_class, orig_classes in source2dest.items():\n",
    "        # Initialise index to 1\n",
    "        index=1\n",
    "        \n",
    "        # Retrieve all images from the original folders\n",
    "        images = [join(source, orig, f) for orig in orig_classes for f in listdir(join(source, orig)) if isfile(join(source, orig, f))]\n",
    "        \n",
    "        # Print information about the number of samples \n",
    "        print(f'Collated {len(images)} files for class: {new_class}')\n",
    "        \n",
    "        # Create directory if it does not exist\n",
    "        os.makedirs(join(destination, new_class), exist_ok=True)\n",
    "\n",
    "        # Copy and rename images\n",
    "        for img in images:\n",
    "            shutil.copy(img, join(destination, new_class, f'{new_class}_{index:05d}.png'))\n",
    "            index+=1\n",
    "    print(f'Completed moving and renaming files into {destination}')"
   ]
  },
  {
   "cell_type": "code",
   "execution_count": 5,
   "id": "a7ccab97",
   "metadata": {},
   "outputs": [
    {
     "name": "stdout",
     "output_type": "stream",
     "text": [
      "Collated 1500 files for class: highdensitybuildings\n",
      "Collated 1000 files for class: lowdensitybuildings\n",
      "Collated 2000 files for class: roads\n",
      "Collated 1500 files for class: recreational\n",
      "Collated 500 files for class: harbor\n",
      "Collated 500 files for class: beach\n",
      "Collated 500 files for class: forest\n",
      "Collated 500 files for class: river\n",
      "Collated 1000 files for class: runway\n",
      "Collated 500 files for class: storagetanks\n",
      "Completed moving and renaming files into .\\dataset\n"
     ]
    }
   ],
   "source": [
    "mv_images(source_base_path, dest_base_path)"
   ]
  },
  {
   "cell_type": "markdown",
   "id": "aba39e6b",
   "metadata": {},
   "source": [
    "Modified dataset is [uploaded to kaggle](https://www.kaggle.com/datasets/racheltanminzhi/landuse/)."
   ]
  },
  {
   "cell_type": "markdown",
   "id": "8713c73a",
   "metadata": {},
   "source": [
    "---"
   ]
  }
 ],
 "metadata": {
  "kernelspec": {
   "display_name": "Python 3 (ipykernel)",
   "language": "python",
   "name": "python3"
  },
  "language_info": {
   "codemirror_mode": {
    "name": "ipython",
    "version": 3
   },
   "file_extension": ".py",
   "mimetype": "text/x-python",
   "name": "python",
   "nbconvert_exporter": "python",
   "pygments_lexer": "ipython3",
   "version": "3.9.12"
  }
 },
 "nbformat": 4,
 "nbformat_minor": 5
}
